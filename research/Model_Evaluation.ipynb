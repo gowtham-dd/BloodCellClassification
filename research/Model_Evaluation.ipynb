{
 "cells": [
  {
   "cell_type": "code",
   "execution_count": 1,
   "metadata": {},
   "outputs": [
    {
     "data": {
      "text/plain": [
       "'d:\\\\Data Science\\\\END to END Proj\\\\BloodCellClassification'"
      ]
     },
     "execution_count": 1,
     "metadata": {},
     "output_type": "execute_result"
    }
   ],
   "source": [
    "import os\n",
    "%pwd\n",
    "os.chdir(\"../\")\n",
    "%pwd\n"
   ]
  },
  {
   "cell_type": "code",
   "execution_count": 2,
   "metadata": {},
   "outputs": [
    {
     "name": "stderr",
     "output_type": "stream",
     "text": [
      "\n",
      "[notice] A new release of pip available: 22.3.1 -> 25.2\n",
      "[notice] To update, run: python.exe -m pip install --upgrade pip\n"
     ]
    },
    {
     "name": "stdout",
     "output_type": "stream",
     "text": [
      "Requirement already satisfied: dagshub in d:\\data science\\end to end proj\\bloodcellclassification\\venv\\lib\\site-packages (0.6.2)\n",
      "Requirement already satisfied: PyYAML>=5 in d:\\data science\\end to end proj\\bloodcellclassification\\venv\\lib\\site-packages (from dagshub) (6.0.2)\n",
      "Requirement already satisfied: appdirs>=1.4.4 in d:\\data science\\end to end proj\\bloodcellclassification\\venv\\lib\\site-packages (from dagshub) (1.4.4)\n",
      "Requirement already satisfied: click>=8.0.4 in d:\\data science\\end to end proj\\bloodcellclassification\\venv\\lib\\site-packages (from dagshub) (8.2.1)\n",
      "Requirement already satisfied: httpx>=0.23.0 in d:\\data science\\end to end proj\\bloodcellclassification\\venv\\lib\\site-packages (from dagshub) (0.28.1)\n",
      "Requirement already satisfied: GitPython>=3.1.29 in d:\\data science\\end to end proj\\bloodcellclassification\\venv\\lib\\site-packages (from dagshub) (3.1.45)\n",
      "Requirement already satisfied: rich>=13.1.0 in d:\\data science\\end to end proj\\bloodcellclassification\\venv\\lib\\site-packages (from dagshub) (14.1.0)\n",
      "Requirement already satisfied: dacite~=1.6.0 in d:\\data science\\end to end proj\\bloodcellclassification\\venv\\lib\\site-packages (from dagshub) (1.6.0)\n",
      "Requirement already satisfied: tenacity>=8.2.2 in d:\\data science\\end to end proj\\bloodcellclassification\\venv\\lib\\site-packages (from dagshub) (9.1.2)\n",
      "Requirement already satisfied: gql[requests] in d:\\data science\\end to end proj\\bloodcellclassification\\venv\\lib\\site-packages (from dagshub) (3.5.3)\n",
      "Requirement already satisfied: dataclasses-json in d:\\data science\\end to end proj\\bloodcellclassification\\venv\\lib\\site-packages (from dagshub) (0.6.7)\n",
      "Requirement already satisfied: pandas in d:\\data science\\end to end proj\\bloodcellclassification\\venv\\lib\\site-packages (from dagshub) (2.3.1)\n",
      "Requirement already satisfied: treelib>=1.6.4 in d:\\data science\\end to end proj\\bloodcellclassification\\venv\\lib\\site-packages (from dagshub) (1.8.0)\n",
      "Requirement already satisfied: pathvalidate>=3.0.0 in d:\\data science\\end to end proj\\bloodcellclassification\\venv\\lib\\site-packages (from dagshub) (3.3.1)\n",
      "Requirement already satisfied: python-dateutil in d:\\data science\\end to end proj\\bloodcellclassification\\venv\\lib\\site-packages (from dagshub) (2.9.0.post0)\n",
      "Requirement already satisfied: boto3 in d:\\data science\\end to end proj\\bloodcellclassification\\venv\\lib\\site-packages (from dagshub) (1.40.0)\n",
      "Requirement already satisfied: semver in d:\\data science\\end to end proj\\bloodcellclassification\\venv\\lib\\site-packages (from dagshub) (3.0.4)\n",
      "Requirement already satisfied: dagshub-annotation-converter>=0.1.5 in d:\\data science\\end to end proj\\bloodcellclassification\\venv\\lib\\site-packages (from dagshub) (0.1.11)\n",
      "Requirement already satisfied: colorama in d:\\data science\\end to end proj\\bloodcellclassification\\venv\\lib\\site-packages (from click>=8.0.4->dagshub) (0.4.6)\n",
      "Requirement already satisfied: lxml in d:\\data science\\end to end proj\\bloodcellclassification\\venv\\lib\\site-packages (from dagshub-annotation-converter>=0.1.5->dagshub) (6.0.0)\n",
      "Requirement already satisfied: pillow in d:\\data science\\end to end proj\\bloodcellclassification\\venv\\lib\\site-packages (from dagshub-annotation-converter>=0.1.5->dagshub) (11.3.0)\n",
      "Requirement already satisfied: pydantic>=2.0.0 in d:\\data science\\end to end proj\\bloodcellclassification\\venv\\lib\\site-packages (from dagshub-annotation-converter>=0.1.5->dagshub) (2.11.7)\n",
      "Requirement already satisfied: typing-extensions in d:\\data science\\end to end proj\\bloodcellclassification\\venv\\lib\\site-packages (from dagshub-annotation-converter>=0.1.5->dagshub) (4.14.1)\n",
      "Requirement already satisfied: gitdb<5,>=4.0.1 in d:\\data science\\end to end proj\\bloodcellclassification\\venv\\lib\\site-packages (from GitPython>=3.1.29->dagshub) (4.0.12)\n",
      "Requirement already satisfied: anyio in d:\\data science\\end to end proj\\bloodcellclassification\\venv\\lib\\site-packages (from httpx>=0.23.0->dagshub) (4.9.0)\n",
      "Requirement already satisfied: certifi in d:\\data science\\end to end proj\\bloodcellclassification\\venv\\lib\\site-packages (from httpx>=0.23.0->dagshub) (2025.7.14)\n",
      "Requirement already satisfied: httpcore==1.* in d:\\data science\\end to end proj\\bloodcellclassification\\venv\\lib\\site-packages (from httpx>=0.23.0->dagshub) (1.0.9)\n",
      "Requirement already satisfied: idna in d:\\data science\\end to end proj\\bloodcellclassification\\venv\\lib\\site-packages (from httpx>=0.23.0->dagshub) (3.10)\n",
      "Requirement already satisfied: h11>=0.16 in d:\\data science\\end to end proj\\bloodcellclassification\\venv\\lib\\site-packages (from httpcore==1.*->httpx>=0.23.0->dagshub) (0.16.0)\n",
      "Requirement already satisfied: markdown-it-py>=2.2.0 in d:\\data science\\end to end proj\\bloodcellclassification\\venv\\lib\\site-packages (from rich>=13.1.0->dagshub) (3.0.0)\n",
      "Requirement already satisfied: pygments<3.0.0,>=2.13.0 in d:\\data science\\end to end proj\\bloodcellclassification\\venv\\lib\\site-packages (from rich>=13.1.0->dagshub) (2.19.2)\n",
      "Requirement already satisfied: six>=1.13.0 in d:\\data science\\end to end proj\\bloodcellclassification\\venv\\lib\\site-packages (from treelib>=1.6.4->dagshub) (1.17.0)\n",
      "Requirement already satisfied: botocore<1.41.0,>=1.40.0 in d:\\data science\\end to end proj\\bloodcellclassification\\venv\\lib\\site-packages (from boto3->dagshub) (1.40.0)\n",
      "Requirement already satisfied: jmespath<2.0.0,>=0.7.1 in d:\\data science\\end to end proj\\bloodcellclassification\\venv\\lib\\site-packages (from boto3->dagshub) (1.0.1)\n",
      "Requirement already satisfied: s3transfer<0.14.0,>=0.13.0 in d:\\data science\\end to end proj\\bloodcellclassification\\venv\\lib\\site-packages (from boto3->dagshub) (0.13.1)\n",
      "Requirement already satisfied: marshmallow<4.0.0,>=3.18.0 in d:\\data science\\end to end proj\\bloodcellclassification\\venv\\lib\\site-packages (from dataclasses-json->dagshub) (3.26.1)\n",
      "Requirement already satisfied: typing-inspect<1,>=0.4.0 in d:\\data science\\end to end proj\\bloodcellclassification\\venv\\lib\\site-packages (from dataclasses-json->dagshub) (0.9.0)\n",
      "Requirement already satisfied: graphql-core<3.2.7,>=3.2 in d:\\data science\\end to end proj\\bloodcellclassification\\venv\\lib\\site-packages (from gql[requests]->dagshub) (3.2.6)\n",
      "Requirement already satisfied: yarl<2.0,>=1.6 in d:\\data science\\end to end proj\\bloodcellclassification\\venv\\lib\\site-packages (from gql[requests]->dagshub) (1.20.1)\n",
      "Requirement already satisfied: backoff<3.0,>=1.11.1 in d:\\data science\\end to end proj\\bloodcellclassification\\venv\\lib\\site-packages (from gql[requests]->dagshub) (2.2.1)\n",
      "Requirement already satisfied: requests<3,>=2.26 in d:\\data science\\end to end proj\\bloodcellclassification\\venv\\lib\\site-packages (from gql[requests]->dagshub) (2.32.4)\n",
      "Requirement already satisfied: requests-toolbelt<2,>=1.0.0 in d:\\data science\\end to end proj\\bloodcellclassification\\venv\\lib\\site-packages (from gql[requests]->dagshub) (1.0.0)\n",
      "Requirement already satisfied: numpy>=1.23.2 in d:\\data science\\end to end proj\\bloodcellclassification\\venv\\lib\\site-packages (from pandas->dagshub) (1.23.5)\n",
      "Requirement already satisfied: pytz>=2020.1 in d:\\data science\\end to end proj\\bloodcellclassification\\venv\\lib\\site-packages (from pandas->dagshub) (2022.7.1)\n",
      "Requirement already satisfied: tzdata>=2022.7 in d:\\data science\\end to end proj\\bloodcellclassification\\venv\\lib\\site-packages (from pandas->dagshub) (2025.2)\n",
      "Requirement already satisfied: sniffio>=1.1 in d:\\data science\\end to end proj\\bloodcellclassification\\venv\\lib\\site-packages (from anyio->httpx>=0.23.0->dagshub) (1.3.1)\n",
      "Requirement already satisfied: urllib3!=2.2.0,<3,>=1.25.4 in d:\\data science\\end to end proj\\bloodcellclassification\\venv\\lib\\site-packages (from botocore<1.41.0,>=1.40.0->boto3->dagshub) (2.5.0)\n",
      "Requirement already satisfied: smmap<6,>=3.0.1 in d:\\data science\\end to end proj\\bloodcellclassification\\venv\\lib\\site-packages (from gitdb<5,>=4.0.1->GitPython>=3.1.29->dagshub) (5.0.2)\n",
      "Requirement already satisfied: mdurl~=0.1 in d:\\data science\\end to end proj\\bloodcellclassification\\venv\\lib\\site-packages (from markdown-it-py>=2.2.0->rich>=13.1.0->dagshub) (0.1.2)\n",
      "Requirement already satisfied: packaging>=17.0 in d:\\data science\\end to end proj\\bloodcellclassification\\venv\\lib\\site-packages (from marshmallow<4.0.0,>=3.18.0->dataclasses-json->dagshub) (23.2)\n",
      "Requirement already satisfied: annotated-types>=0.6.0 in d:\\data science\\end to end proj\\bloodcellclassification\\venv\\lib\\site-packages (from pydantic>=2.0.0->dagshub-annotation-converter>=0.1.5->dagshub) (0.7.0)\n",
      "Requirement already satisfied: pydantic-core==2.33.2 in d:\\data science\\end to end proj\\bloodcellclassification\\venv\\lib\\site-packages (from pydantic>=2.0.0->dagshub-annotation-converter>=0.1.5->dagshub) (2.33.2)\n",
      "Requirement already satisfied: typing-inspection>=0.4.0 in d:\\data science\\end to end proj\\bloodcellclassification\\venv\\lib\\site-packages (from pydantic>=2.0.0->dagshub-annotation-converter>=0.1.5->dagshub) (0.4.1)\n",
      "Requirement already satisfied: charset_normalizer<4,>=2 in d:\\data science\\end to end proj\\bloodcellclassification\\venv\\lib\\site-packages (from requests<3,>=2.26->gql[requests]->dagshub) (3.4.2)\n",
      "Requirement already satisfied: mypy-extensions>=0.3.0 in d:\\data science\\end to end proj\\bloodcellclassification\\venv\\lib\\site-packages (from typing-inspect<1,>=0.4.0->dataclasses-json->dagshub) (1.1.0)\n",
      "Requirement already satisfied: multidict>=4.0 in d:\\data science\\end to end proj\\bloodcellclassification\\venv\\lib\\site-packages (from yarl<2.0,>=1.6->gql[requests]->dagshub) (6.6.3)\n",
      "Requirement already satisfied: propcache>=0.2.1 in d:\\data science\\end to end proj\\bloodcellclassification\\venv\\lib\\site-packages (from yarl<2.0,>=1.6->gql[requests]->dagshub) (0.3.2)\n",
      "Note: you may need to restart the kernel to use updated packages.\n"
     ]
    },
    {
     "data": {
      "text/html": [
       "<pre style=\"white-space:pre;overflow-x:auto;line-height:normal;font-family:Menlo,'DejaVu Sans Mono',consolas,'Courier New',monospace\">Accessing as gowtham-dd\n",
       "</pre>\n"
      ],
      "text/plain": [
       "Accessing as gowtham-dd\n"
      ]
     },
     "metadata": {},
     "output_type": "display_data"
    },
    {
     "data": {
      "text/html": [
       "<pre style=\"white-space:pre;overflow-x:auto;line-height:normal;font-family:Menlo,'DejaVu Sans Mono',consolas,'Courier New',monospace\">Initialized MLflow to track repo <span style=\"color: #008000; text-decoration-color: #008000\">\"gowtham-dd/BloodCellClassification\"</span>\n",
       "</pre>\n"
      ],
      "text/plain": [
       "Initialized MLflow to track repo \u001b[32m\"gowtham-dd/BloodCellClassification\"\u001b[0m\n"
      ]
     },
     "metadata": {},
     "output_type": "display_data"
    },
    {
     "data": {
      "text/html": [
       "<pre style=\"white-space:pre;overflow-x:auto;line-height:normal;font-family:Menlo,'DejaVu Sans Mono',consolas,'Courier New',monospace\">Repository gowtham-dd/BloodCellClassification initialized!\n",
       "</pre>\n"
      ],
      "text/plain": [
       "Repository gowtham-dd/BloodCellClassification initialized!\n"
      ]
     },
     "metadata": {},
     "output_type": "display_data"
    }
   ],
   "source": [
    "%pip install dagshub\n",
    "import dagshub\n",
    "dagshub.init(repo_owner='gowtham-dd', repo_name='BloodCellClassification', mlflow=True)\n",
    "\n",
    "import mlflow\n",
    "with mlflow.start_run():\n",
    "  mlflow.log_param('parameter name', 'value')\n",
    "  mlflow.log_metric('metric name', 1)"
   ]
  },
  {
   "cell_type": "code",
   "execution_count": 3,
   "metadata": {},
   "outputs": [],
   "source": [
    "from dataclasses import dataclass\n",
    "from pathlib import Path\n",
    "\n",
    "\n",
    "@dataclass(frozen=True)\n",
    "class ModelEvaluationConfig:\n",
    "    root_dir: Path\n",
    "    test_data_path: Path\n",
    "    model_path: Path\n",
    "    metric_file_name: Path\n",
    "    mlflow_uri: str\n",
    "    batch_size: int\n",
    "    img_height: int\n",
    "    img_width: int\n",
    "    target_metric: str"
   ]
  },
  {
   "cell_type": "code",
   "execution_count": 4,
   "metadata": {},
   "outputs": [],
   "source": [
    "from BloodCellClassifier.constant import *\n",
    "from BloodCellClassifier.utils.common import read_yaml, create_directories\n",
    "\n",
    "\n",
    "class ConfigurationManager:\n",
    "    def __init__(\n",
    "        self,\n",
    "        config_filepath = CONFIG_FILE_PATH,\n",
    "        params_filepath = PARAMS_FILE_PATH\n",
    "    ):\n",
    "        self.config = read_yaml(config_filepath)\n",
    "        self.params = read_yaml(params_filepath)\n",
    "        create_directories([self.config.artifacts_root])\n",
    "\n",
    "\n",
    "\n",
    "    def get_model_evaluation_config(self) -> ModelEvaluationConfig:\n",
    "        config = self.config.model_evaluation\n",
    "        params = self.params.model_evaluation\n",
    "\n",
    "        create_directories([config.root_dir])\n",
    "\n",
    "        return ModelEvaluationConfig(\n",
    "            root_dir=Path(config.root_dir),\n",
    "            test_data_path=Path(config.test_data_path),\n",
    "            model_path=Path(config.model_path),\n",
    "            metric_file_name=Path(config.metric_file_name),\n",
    "            mlflow_uri=config.mlflow_uri,\n",
    "            batch_size=params.batch_size,\n",
    "            img_height=params.img_height,\n",
    "            img_width=params.img_width,\n",
    "            target_metric=params.target_metric\n",
    "        )"
   ]
  },
  {
   "cell_type": "code",
   "execution_count": 9,
   "metadata": {},
   "outputs": [],
   "source": [
    "import os\n",
    "import mlflow\n",
    "import mlflow.tensorflow\n",
    "import pandas as pd\n",
    "import tensorflow as tf\n",
    "from tensorflow.keras.preprocessing.image import ImageDataGenerator\n",
    "from urllib.parse import urlparse\n",
    "from pathlib import Path\n",
    "from BloodCellClassifier.utils.common import save_json\n",
    "from BloodCellClassifier import logger\n",
    "\n",
    "class ModelEvaluation:\n",
    "    def __init__(self, config):\n",
    "        self.config = config\n",
    "        self.image_size = (self.config.img_height, self.config.img_width)\n",
    "\n",
    "    def _load_test_generator(self):\n",
    "        \"\"\"Create test data generator from saved CSV\"\"\"\n",
    "        try:\n",
    "            test_df = pd.read_csv(self.config.test_data_path)\n",
    "            \n",
    "            datagen = ImageDataGenerator(\n",
    "                preprocessing_function=tf.keras.applications.mobilenet_v2.preprocess_input\n",
    "            )\n",
    "            \n",
    "            test_gen = datagen.flow_from_dataframe(\n",
    "                dataframe=test_df,\n",
    "                x_col=\"filepaths\",\n",
    "                y_col=\"labels\",\n",
    "                target_size=self.image_size,\n",
    "                batch_size=self.config.batch_size,\n",
    "                class_mode=\"categorical\",\n",
    "                shuffle=False\n",
    "            )\n",
    "            return test_gen\n",
    "        except Exception as e:\n",
    "            logger.error(f\"Error creating test generator: {e}\")\n",
    "            raise\n",
    "\n",
    "    def _load_model(self):\n",
    "        \"\"\"Load the saved TensorFlow model\"\"\"\n",
    "        try:\n",
    "            return tf.keras.models.load_model(self.config.model_path)\n",
    "        except Exception as e:\n",
    "            logger.error(f\"Error loading model: {e}\")\n",
    "            raise\n",
    "\n",
    "    def evaluate_model(self):\n",
    "        \"\"\"Evaluate model and return metrics\"\"\"\n",
    "        try:\n",
    "            model = self._load_model()\n",
    "            test_gen = self._load_test_generator()\n",
    "\n",
    "            # Evaluate model\n",
    "            loss, accuracy = model.evaluate(test_gen)\n",
    "            \n",
    "            metrics = {\n",
    "                \"loss\": float(loss),\n",
    "                \"accuracy\": float(accuracy)\n",
    "            }\n",
    "\n",
    "            # Save metrics\n",
    "            save_json(Path(self.config.metric_file_name), metrics)\n",
    "            logger.info(f\"Evaluation metrics: {metrics}\")\n",
    "            return model, metrics\n",
    "\n",
    "        except Exception as e:\n",
    "            logger.error(f\"Error during evaluation: {e}\")\n",
    "            raise\n",
    "\n",
    "    def log_into_mlflow(self):\n",
    "        \"\"\"Log evaluation results to MLflow\"\"\"\n",
    "        mlflow.set_tracking_uri(self.config.mlflow_uri)\n",
    "        tracking_url_type_store = urlparse(mlflow.get_tracking_uri()).scheme\n",
    "\n",
    "        try:\n",
    "            with mlflow.start_run():\n",
    "                # Load model and evaluate\n",
    "                model, metrics = self.evaluate_model()\n",
    "\n",
    "                # Log parameters\n",
    "                mlflow.log_params({\n",
    "                    \"batch_size\": self.config.batch_size,\n",
    "                    \"img_height\": self.config.img_height,\n",
    "                    \"img_width\": self.config.img_width\n",
    "                })\n",
    "\n",
    "                # Log metrics\n",
    "                mlflow.log_metrics(metrics)\n",
    "\n",
    "                # Log model\n",
    "                if tracking_url_type_store != \"file\":\n",
    "                    mlflow.tensorflow.log_model(\n",
    "                        model,\n",
    "                        artifact_path=\"blood_cell_model\",\n",
    "                        registered_model_name=\"BloodCell_CNN_Model\"\n",
    "                    )\n",
    "                else:\n",
    "                    mlflow.log_artifacts(str(self.config.model_path), artifact_path=\"blood_cell_model\")\n",
    "\n",
    "                logger.info(\"Model evaluation and MLflow logging completed successfully\")\n",
    "\n",
    "        except Exception as e:\n",
    "            logger.error(f\"MLflow logging failed: {e}\")\n",
    "            if mlflow.active_run():\n",
    "                mlflow.end_run(status=\"FAILED\")\n",
    "            raise"
   ]
  },
  {
   "cell_type": "code",
   "execution_count": 8,
   "metadata": {},
   "outputs": [
    {
     "name": "stdout",
     "output_type": "stream",
     "text": [
      "[2025-08-01 18:58:12,601: INFO: common: yaml file: config\\config.yaml loaded successfully]\n",
      "[2025-08-01 18:58:12,612: INFO: common: yaml file: params.yaml loaded successfully]\n",
      "[2025-08-01 18:58:12,614: INFO: common: created directory at: artifacts]\n",
      "[2025-08-01 18:58:12,616: INFO: common: created directory at: artifacts/model_evaluation]\n",
      "Found 2988 validated image filenames belonging to 4 classes.\n",
      " 71/374 [====>.........................] - ETA: 5:13 - loss: 0.1730 - accuracy: 0.9225"
     ]
    }
   ],
   "source": [
    "\n",
    "try:\n",
    "            config = ConfigurationManager()\n",
    "            eval_config = config.get_model_evaluation_config()\n",
    "            evaluator = ModelEvaluation(config=eval_config)\n",
    "            evaluator.log_into_mlflow()\n",
    "except Exception as e:\n",
    "            logger.exception(e)\n",
    "            raise e"
   ]
  }
 ],
 "metadata": {
  "kernelspec": {
   "display_name": "venv",
   "language": "python",
   "name": "python3"
  },
  "language_info": {
   "codemirror_mode": {
    "name": "ipython",
    "version": 3
   },
   "file_extension": ".py",
   "mimetype": "text/x-python",
   "name": "python",
   "nbconvert_exporter": "python",
   "pygments_lexer": "ipython3",
   "version": "3.11.1"
  }
 },
 "nbformat": 4,
 "nbformat_minor": 2
}
